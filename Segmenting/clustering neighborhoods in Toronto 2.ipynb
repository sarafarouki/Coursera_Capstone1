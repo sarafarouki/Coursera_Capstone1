{
    "cells": [
        {
            "cell_type": "markdown",
            "metadata": {
                "collapsed": true
            },
            "source": "# Segmenting & clustering neihborhoods in Toronto "
        },
        {
            "cell_type": "markdown",
            "metadata": {},
            "source": "Question 2"
        },
        {
            "cell_type": "code",
            "execution_count": 11,
            "metadata": {},
            "outputs": [],
            "source": "import numpy as np\nimport pandas as pd "
        },
        {
            "cell_type": "code",
            "execution_count": 12,
            "metadata": {},
            "outputs": [],
            "source": "import json \nfrom geopy.geocoders import Nominatim \nfrom pandas.io.json import json_normalize"
        },
        {
            "cell_type": "code",
            "execution_count": 13,
            "metadata": {},
            "outputs": [],
            "source": "import matplotlib.cm as cm\nimport matplotlib.colors as colors"
        },
        {
            "cell_type": "code",
            "execution_count": 14,
            "metadata": {},
            "outputs": [],
            "source": "from sklearn.cluster import KMeans\n#!pip install folium\nimport folium "
        },
        {
            "cell_type": "code",
            "execution_count": 15,
            "metadata": {},
            "outputs": [
                {
                    "data": {
                        "text/html": "<div>\n<style scoped>\n    .dataframe tbody tr th:only-of-type {\n        vertical-align: middle;\n    }\n\n    .dataframe tbody tr th {\n        vertical-align: top;\n    }\n\n    .dataframe thead th {\n        text-align: right;\n    }\n</style>\n<table border=\"1\" class=\"dataframe\">\n  <thead>\n    <tr style=\"text-align: right;\">\n      <th></th>\n      <th>Postal Code</th>\n      <th>Latitude</th>\n      <th>Longitude</th>\n    </tr>\n  </thead>\n  <tbody>\n    <tr>\n      <th>0</th>\n      <td>M1B</td>\n      <td>43.806686</td>\n      <td>-79.194353</td>\n    </tr>\n    <tr>\n      <th>1</th>\n      <td>M1C</td>\n      <td>43.784535</td>\n      <td>-79.160497</td>\n    </tr>\n    <tr>\n      <th>2</th>\n      <td>M1E</td>\n      <td>43.763573</td>\n      <td>-79.188711</td>\n    </tr>\n    <tr>\n      <th>3</th>\n      <td>M1G</td>\n      <td>43.770992</td>\n      <td>-79.216917</td>\n    </tr>\n    <tr>\n      <th>4</th>\n      <td>M1H</td>\n      <td>43.773136</td>\n      <td>-79.239476</td>\n    </tr>\n  </tbody>\n</table>\n</div>",
                        "text/plain": "  Postal Code   Latitude  Longitude\n0         M1B  43.806686 -79.194353\n1         M1C  43.784535 -79.160497\n2         M1E  43.763573 -79.188711\n3         M1G  43.770992 -79.216917\n4         M1H  43.773136 -79.239476"
                    },
                    "execution_count": 15,
                    "metadata": {},
                    "output_type": "execute_result"
                }
            ],
            "source": "df_lon_lat = pd.read_csv('http://cocl.us/Geospatial_data')\ndf_lon_lat.head()"
        },
        {
            "cell_type": "code",
            "execution_count": 16,
            "metadata": {},
            "outputs": [
                {
                    "data": {
                        "text/html": "<div>\n<style scoped>\n    .dataframe tbody tr th:only-of-type {\n        vertical-align: middle;\n    }\n\n    .dataframe tbody tr th {\n        vertical-align: top;\n    }\n\n    .dataframe thead th {\n        text-align: right;\n    }\n</style>\n<table border=\"1\" class=\"dataframe\">\n  <thead>\n    <tr style=\"text-align: right;\">\n      <th></th>\n      <th>Postalcode</th>\n      <th>Latitude</th>\n      <th>Longitude</th>\n    </tr>\n  </thead>\n  <tbody>\n    <tr>\n      <th>0</th>\n      <td>M1B</td>\n      <td>43.806686</td>\n      <td>-79.194353</td>\n    </tr>\n    <tr>\n      <th>1</th>\n      <td>M1C</td>\n      <td>43.784535</td>\n      <td>-79.160497</td>\n    </tr>\n    <tr>\n      <th>2</th>\n      <td>M1E</td>\n      <td>43.763573</td>\n      <td>-79.188711</td>\n    </tr>\n    <tr>\n      <th>3</th>\n      <td>M1G</td>\n      <td>43.770992</td>\n      <td>-79.216917</td>\n    </tr>\n    <tr>\n      <th>4</th>\n      <td>M1H</td>\n      <td>43.773136</td>\n      <td>-79.239476</td>\n    </tr>\n  </tbody>\n</table>\n</div>",
                        "text/plain": "  Postalcode   Latitude  Longitude\n0        M1B  43.806686 -79.194353\n1        M1C  43.784535 -79.160497\n2        M1E  43.763573 -79.188711\n3        M1G  43.770992 -79.216917\n4        M1H  43.773136 -79.239476"
                    },
                    "execution_count": 16,
                    "metadata": {},
                    "output_type": "execute_result"
                }
            ],
            "source": "df_lon_lat.columns=['Postalcode','Latitude','Longitude']\ndf_lon_lat.head()"
        },
        {
            "cell_type": "code",
            "execution_count": 10,
            "metadata": {},
            "outputs": [
                {
                    "data": {
                        "text/html": "<div>\n<style scoped>\n    .dataframe tbody tr th:only-of-type {\n        vertical-align: middle;\n    }\n\n    .dataframe tbody tr th {\n        vertical-align: top;\n    }\n\n    .dataframe thead th {\n        text-align: right;\n    }\n</style>\n<table border=\"1\" class=\"dataframe\">\n  <thead>\n    <tr style=\"text-align: right;\">\n      <th></th>\n      <th>Postalcode</th>\n      <th>Borough</th>\n      <th>0</th>\n      <th>Latitude</th>\n      <th>Longitude</th>\n    </tr>\n  </thead>\n  <tbody>\n    <tr>\n      <th>0</th>\n      <td>M1B</td>\n      <td>43.806686</td>\n      <td>Postalcode, Borough, Neighbourhood</td>\n      <td>43.806686</td>\n      <td>-79.194353</td>\n    </tr>\n    <tr>\n      <th>1</th>\n      <td>M1C</td>\n      <td>43.784535</td>\n      <td>Postalcode, Borough, Neighbourhood</td>\n      <td>43.784535</td>\n      <td>-79.160497</td>\n    </tr>\n    <tr>\n      <th>2</th>\n      <td>M1E</td>\n      <td>43.763573</td>\n      <td>Postalcode, Borough, Neighbourhood</td>\n      <td>43.763573</td>\n      <td>-79.188711</td>\n    </tr>\n    <tr>\n      <th>3</th>\n      <td>M1G</td>\n      <td>43.770992</td>\n      <td>Postalcode, Borough, Neighbourhood</td>\n      <td>43.770992</td>\n      <td>-79.216917</td>\n    </tr>\n    <tr>\n      <th>4</th>\n      <td>M1H</td>\n      <td>43.773136</td>\n      <td>Postalcode, Borough, Neighbourhood</td>\n      <td>43.773136</td>\n      <td>-79.239476</td>\n    </tr>\n    <tr>\n      <th>5</th>\n      <td>M1J</td>\n      <td>43.744734</td>\n      <td>Postalcode, Borough, Neighbourhood</td>\n      <td>43.744734</td>\n      <td>-79.239476</td>\n    </tr>\n    <tr>\n      <th>6</th>\n      <td>M1K</td>\n      <td>43.727929</td>\n      <td>Postalcode, Borough, Neighbourhood</td>\n      <td>43.727929</td>\n      <td>-79.262029</td>\n    </tr>\n    <tr>\n      <th>7</th>\n      <td>M1L</td>\n      <td>43.711112</td>\n      <td>Postalcode, Borough, Neighbourhood</td>\n      <td>43.711112</td>\n      <td>-79.284577</td>\n    </tr>\n    <tr>\n      <th>8</th>\n      <td>M1M</td>\n      <td>43.716316</td>\n      <td>Postalcode, Borough, Neighbourhood</td>\n      <td>43.716316</td>\n      <td>-79.239476</td>\n    </tr>\n    <tr>\n      <th>9</th>\n      <td>M1N</td>\n      <td>43.692657</td>\n      <td>Postalcode, Borough, Neighbourhood</td>\n      <td>43.692657</td>\n      <td>-79.264848</td>\n    </tr>\n    <tr>\n      <th>10</th>\n      <td>M1P</td>\n      <td>43.757410</td>\n      <td>Postalcode, Borough, Neighbourhood</td>\n      <td>43.757410</td>\n      <td>-79.273304</td>\n    </tr>\n    <tr>\n      <th>11</th>\n      <td>M1R</td>\n      <td>43.750072</td>\n      <td>Postalcode, Borough, Neighbourhood</td>\n      <td>43.750072</td>\n      <td>-79.295849</td>\n    </tr>\n    <tr>\n      <th>12</th>\n      <td>M1S</td>\n      <td>43.794200</td>\n      <td>Postalcode, Borough, Neighbourhood</td>\n      <td>43.794200</td>\n      <td>-79.262029</td>\n    </tr>\n    <tr>\n      <th>13</th>\n      <td>M1T</td>\n      <td>43.781638</td>\n      <td>Postalcode, Borough, Neighbourhood</td>\n      <td>43.781638</td>\n      <td>-79.304302</td>\n    </tr>\n    <tr>\n      <th>14</th>\n      <td>M1V</td>\n      <td>43.815252</td>\n      <td>Postalcode, Borough, Neighbourhood</td>\n      <td>43.815252</td>\n      <td>-79.284577</td>\n    </tr>\n    <tr>\n      <th>15</th>\n      <td>M1W</td>\n      <td>43.799525</td>\n      <td>Postalcode, Borough, Neighbourhood</td>\n      <td>43.799525</td>\n      <td>-79.318389</td>\n    </tr>\n    <tr>\n      <th>16</th>\n      <td>M1X</td>\n      <td>43.836125</td>\n      <td>Postalcode, Borough, Neighbourhood</td>\n      <td>43.836125</td>\n      <td>-79.205636</td>\n    </tr>\n    <tr>\n      <th>17</th>\n      <td>M2H</td>\n      <td>43.803762</td>\n      <td>Postalcode, Borough, Neighbourhood</td>\n      <td>43.803762</td>\n      <td>-79.363452</td>\n    </tr>\n    <tr>\n      <th>18</th>\n      <td>M2J</td>\n      <td>43.778517</td>\n      <td>Postalcode, Borough, Neighbourhood</td>\n      <td>43.778517</td>\n      <td>-79.346556</td>\n    </tr>\n    <tr>\n      <th>19</th>\n      <td>M2K</td>\n      <td>43.786947</td>\n      <td>Postalcode, Borough, Neighbourhood</td>\n      <td>43.786947</td>\n      <td>-79.385975</td>\n    </tr>\n    <tr>\n      <th>20</th>\n      <td>M2L</td>\n      <td>43.757490</td>\n      <td>Postalcode, Borough, Neighbourhood</td>\n      <td>43.757490</td>\n      <td>-79.374714</td>\n    </tr>\n    <tr>\n      <th>21</th>\n      <td>M2M</td>\n      <td>43.789053</td>\n      <td>Postalcode, Borough, Neighbourhood</td>\n      <td>43.789053</td>\n      <td>-79.408493</td>\n    </tr>\n    <tr>\n      <th>22</th>\n      <td>M2N</td>\n      <td>43.770120</td>\n      <td>Postalcode, Borough, Neighbourhood</td>\n      <td>43.770120</td>\n      <td>-79.408493</td>\n    </tr>\n    <tr>\n      <th>23</th>\n      <td>M2P</td>\n      <td>43.752758</td>\n      <td>Postalcode, Borough, Neighbourhood</td>\n      <td>43.752758</td>\n      <td>-79.400049</td>\n    </tr>\n    <tr>\n      <th>24</th>\n      <td>M2R</td>\n      <td>43.782736</td>\n      <td>Postalcode, Borough, Neighbourhood</td>\n      <td>43.782736</td>\n      <td>-79.442259</td>\n    </tr>\n    <tr>\n      <th>25</th>\n      <td>M3A</td>\n      <td>43.753259</td>\n      <td>Postalcode, Borough, Neighbourhood</td>\n      <td>43.753259</td>\n      <td>-79.329656</td>\n    </tr>\n    <tr>\n      <th>26</th>\n      <td>M3B</td>\n      <td>43.745906</td>\n      <td>Postalcode, Borough, Neighbourhood</td>\n      <td>43.745906</td>\n      <td>-79.352188</td>\n    </tr>\n    <tr>\n      <th>27</th>\n      <td>M3C</td>\n      <td>43.725900</td>\n      <td>Postalcode, Borough, Neighbourhood</td>\n      <td>43.725900</td>\n      <td>-79.340923</td>\n    </tr>\n    <tr>\n      <th>28</th>\n      <td>M3H</td>\n      <td>43.754328</td>\n      <td>Postalcode, Borough, Neighbourhood</td>\n      <td>43.754328</td>\n      <td>-79.442259</td>\n    </tr>\n    <tr>\n      <th>29</th>\n      <td>M3J</td>\n      <td>43.767980</td>\n      <td>Postalcode, Borough, Neighbourhood</td>\n      <td>43.767980</td>\n      <td>-79.487262</td>\n    </tr>\n    <tr>\n      <th>...</th>\n      <td>...</td>\n      <td>...</td>\n      <td>...</td>\n      <td>...</td>\n      <td>...</td>\n    </tr>\n    <tr>\n      <th>73</th>\n      <td>M6C</td>\n      <td>43.693781</td>\n      <td>Postalcode, Borough, Neighbourhood</td>\n      <td>43.693781</td>\n      <td>-79.428191</td>\n    </tr>\n    <tr>\n      <th>74</th>\n      <td>M6E</td>\n      <td>43.689026</td>\n      <td>Postalcode, Borough, Neighbourhood</td>\n      <td>43.689026</td>\n      <td>-79.453512</td>\n    </tr>\n    <tr>\n      <th>75</th>\n      <td>M6G</td>\n      <td>43.669542</td>\n      <td>Postalcode, Borough, Neighbourhood</td>\n      <td>43.669542</td>\n      <td>-79.422564</td>\n    </tr>\n    <tr>\n      <th>76</th>\n      <td>M6H</td>\n      <td>43.669005</td>\n      <td>Postalcode, Borough, Neighbourhood</td>\n      <td>43.669005</td>\n      <td>-79.442259</td>\n    </tr>\n    <tr>\n      <th>77</th>\n      <td>M6J</td>\n      <td>43.647927</td>\n      <td>Postalcode, Borough, Neighbourhood</td>\n      <td>43.647927</td>\n      <td>-79.419750</td>\n    </tr>\n    <tr>\n      <th>78</th>\n      <td>M6K</td>\n      <td>43.636847</td>\n      <td>Postalcode, Borough, Neighbourhood</td>\n      <td>43.636847</td>\n      <td>-79.428191</td>\n    </tr>\n    <tr>\n      <th>79</th>\n      <td>M6L</td>\n      <td>43.713756</td>\n      <td>Postalcode, Borough, Neighbourhood</td>\n      <td>43.713756</td>\n      <td>-79.490074</td>\n    </tr>\n    <tr>\n      <th>80</th>\n      <td>M6M</td>\n      <td>43.691116</td>\n      <td>Postalcode, Borough, Neighbourhood</td>\n      <td>43.691116</td>\n      <td>-79.476013</td>\n    </tr>\n    <tr>\n      <th>81</th>\n      <td>M6N</td>\n      <td>43.673185</td>\n      <td>Postalcode, Borough, Neighbourhood</td>\n      <td>43.673185</td>\n      <td>-79.487262</td>\n    </tr>\n    <tr>\n      <th>82</th>\n      <td>M6P</td>\n      <td>43.661608</td>\n      <td>Postalcode, Borough, Neighbourhood</td>\n      <td>43.661608</td>\n      <td>-79.464763</td>\n    </tr>\n    <tr>\n      <th>83</th>\n      <td>M6R</td>\n      <td>43.648960</td>\n      <td>Postalcode, Borough, Neighbourhood</td>\n      <td>43.648960</td>\n      <td>-79.456325</td>\n    </tr>\n    <tr>\n      <th>84</th>\n      <td>M6S</td>\n      <td>43.651571</td>\n      <td>Postalcode, Borough, Neighbourhood</td>\n      <td>43.651571</td>\n      <td>-79.484450</td>\n    </tr>\n    <tr>\n      <th>85</th>\n      <td>M7A</td>\n      <td>43.662301</td>\n      <td>Postalcode, Borough, Neighbourhood</td>\n      <td>43.662301</td>\n      <td>-79.389494</td>\n    </tr>\n    <tr>\n      <th>86</th>\n      <td>M7R</td>\n      <td>43.636966</td>\n      <td>Postalcode, Borough, Neighbourhood</td>\n      <td>43.636966</td>\n      <td>-79.615819</td>\n    </tr>\n    <tr>\n      <th>87</th>\n      <td>M7Y</td>\n      <td>43.662744</td>\n      <td>Postalcode, Borough, Neighbourhood</td>\n      <td>43.662744</td>\n      <td>-79.321558</td>\n    </tr>\n    <tr>\n      <th>88</th>\n      <td>M8V</td>\n      <td>43.605647</td>\n      <td>Postalcode, Borough, Neighbourhood</td>\n      <td>43.605647</td>\n      <td>-79.501321</td>\n    </tr>\n    <tr>\n      <th>89</th>\n      <td>M8W</td>\n      <td>43.602414</td>\n      <td>Postalcode, Borough, Neighbourhood</td>\n      <td>43.602414</td>\n      <td>-79.543484</td>\n    </tr>\n    <tr>\n      <th>90</th>\n      <td>M8X</td>\n      <td>43.653654</td>\n      <td>Postalcode, Borough, Neighbourhood</td>\n      <td>43.653654</td>\n      <td>-79.506944</td>\n    </tr>\n    <tr>\n      <th>91</th>\n      <td>M8Y</td>\n      <td>43.636258</td>\n      <td>Postalcode, Borough, Neighbourhood</td>\n      <td>43.636258</td>\n      <td>-79.498509</td>\n    </tr>\n    <tr>\n      <th>92</th>\n      <td>M8Z</td>\n      <td>43.628841</td>\n      <td>Postalcode, Borough, Neighbourhood</td>\n      <td>43.628841</td>\n      <td>-79.520999</td>\n    </tr>\n    <tr>\n      <th>93</th>\n      <td>M9A</td>\n      <td>43.667856</td>\n      <td>Postalcode, Borough, Neighbourhood</td>\n      <td>43.667856</td>\n      <td>-79.532242</td>\n    </tr>\n    <tr>\n      <th>94</th>\n      <td>M9B</td>\n      <td>43.650943</td>\n      <td>Postalcode, Borough, Neighbourhood</td>\n      <td>43.650943</td>\n      <td>-79.554724</td>\n    </tr>\n    <tr>\n      <th>95</th>\n      <td>M9C</td>\n      <td>43.643515</td>\n      <td>Postalcode, Borough, Neighbourhood</td>\n      <td>43.643515</td>\n      <td>-79.577201</td>\n    </tr>\n    <tr>\n      <th>96</th>\n      <td>M9L</td>\n      <td>43.756303</td>\n      <td>Postalcode, Borough, Neighbourhood</td>\n      <td>43.756303</td>\n      <td>-79.565963</td>\n    </tr>\n    <tr>\n      <th>97</th>\n      <td>M9M</td>\n      <td>43.724766</td>\n      <td>Postalcode, Borough, Neighbourhood</td>\n      <td>43.724766</td>\n      <td>-79.532242</td>\n    </tr>\n    <tr>\n      <th>98</th>\n      <td>M9N</td>\n      <td>43.706876</td>\n      <td>Postalcode, Borough, Neighbourhood</td>\n      <td>43.706876</td>\n      <td>-79.518188</td>\n    </tr>\n    <tr>\n      <th>99</th>\n      <td>M9P</td>\n      <td>43.696319</td>\n      <td>Postalcode, Borough, Neighbourhood</td>\n      <td>43.696319</td>\n      <td>-79.532242</td>\n    </tr>\n    <tr>\n      <th>100</th>\n      <td>M9R</td>\n      <td>43.688905</td>\n      <td>Postalcode, Borough, Neighbourhood</td>\n      <td>43.688905</td>\n      <td>-79.554724</td>\n    </tr>\n    <tr>\n      <th>101</th>\n      <td>M9V</td>\n      <td>43.739416</td>\n      <td>Postalcode, Borough, Neighbourhood</td>\n      <td>43.739416</td>\n      <td>-79.588437</td>\n    </tr>\n    <tr>\n      <th>102</th>\n      <td>M9W</td>\n      <td>43.706748</td>\n      <td>Postalcode, Borough, Neighbourhood</td>\n      <td>43.706748</td>\n      <td>-79.594054</td>\n    </tr>\n  </tbody>\n</table>\n<p>103 rows \u00d7 5 columns</p>\n</div>",
                        "text/plain": "    Postalcode    Borough                                   0   Latitude  \\\n0          M1B  43.806686  Postalcode, Borough, Neighbourhood  43.806686   \n1          M1C  43.784535  Postalcode, Borough, Neighbourhood  43.784535   \n2          M1E  43.763573  Postalcode, Borough, Neighbourhood  43.763573   \n3          M1G  43.770992  Postalcode, Borough, Neighbourhood  43.770992   \n4          M1H  43.773136  Postalcode, Borough, Neighbourhood  43.773136   \n5          M1J  43.744734  Postalcode, Borough, Neighbourhood  43.744734   \n6          M1K  43.727929  Postalcode, Borough, Neighbourhood  43.727929   \n7          M1L  43.711112  Postalcode, Borough, Neighbourhood  43.711112   \n8          M1M  43.716316  Postalcode, Borough, Neighbourhood  43.716316   \n9          M1N  43.692657  Postalcode, Borough, Neighbourhood  43.692657   \n10         M1P  43.757410  Postalcode, Borough, Neighbourhood  43.757410   \n11         M1R  43.750072  Postalcode, Borough, Neighbourhood  43.750072   \n12         M1S  43.794200  Postalcode, Borough, Neighbourhood  43.794200   \n13         M1T  43.781638  Postalcode, Borough, Neighbourhood  43.781638   \n14         M1V  43.815252  Postalcode, Borough, Neighbourhood  43.815252   \n15         M1W  43.799525  Postalcode, Borough, Neighbourhood  43.799525   \n16         M1X  43.836125  Postalcode, Borough, Neighbourhood  43.836125   \n17         M2H  43.803762  Postalcode, Borough, Neighbourhood  43.803762   \n18         M2J  43.778517  Postalcode, Borough, Neighbourhood  43.778517   \n19         M2K  43.786947  Postalcode, Borough, Neighbourhood  43.786947   \n20         M2L  43.757490  Postalcode, Borough, Neighbourhood  43.757490   \n21         M2M  43.789053  Postalcode, Borough, Neighbourhood  43.789053   \n22         M2N  43.770120  Postalcode, Borough, Neighbourhood  43.770120   \n23         M2P  43.752758  Postalcode, Borough, Neighbourhood  43.752758   \n24         M2R  43.782736  Postalcode, Borough, Neighbourhood  43.782736   \n25         M3A  43.753259  Postalcode, Borough, Neighbourhood  43.753259   \n26         M3B  43.745906  Postalcode, Borough, Neighbourhood  43.745906   \n27         M3C  43.725900  Postalcode, Borough, Neighbourhood  43.725900   \n28         M3H  43.754328  Postalcode, Borough, Neighbourhood  43.754328   \n29         M3J  43.767980  Postalcode, Borough, Neighbourhood  43.767980   \n..         ...        ...                                 ...        ...   \n73         M6C  43.693781  Postalcode, Borough, Neighbourhood  43.693781   \n74         M6E  43.689026  Postalcode, Borough, Neighbourhood  43.689026   \n75         M6G  43.669542  Postalcode, Borough, Neighbourhood  43.669542   \n76         M6H  43.669005  Postalcode, Borough, Neighbourhood  43.669005   \n77         M6J  43.647927  Postalcode, Borough, Neighbourhood  43.647927   \n78         M6K  43.636847  Postalcode, Borough, Neighbourhood  43.636847   \n79         M6L  43.713756  Postalcode, Borough, Neighbourhood  43.713756   \n80         M6M  43.691116  Postalcode, Borough, Neighbourhood  43.691116   \n81         M6N  43.673185  Postalcode, Borough, Neighbourhood  43.673185   \n82         M6P  43.661608  Postalcode, Borough, Neighbourhood  43.661608   \n83         M6R  43.648960  Postalcode, Borough, Neighbourhood  43.648960   \n84         M6S  43.651571  Postalcode, Borough, Neighbourhood  43.651571   \n85         M7A  43.662301  Postalcode, Borough, Neighbourhood  43.662301   \n86         M7R  43.636966  Postalcode, Borough, Neighbourhood  43.636966   \n87         M7Y  43.662744  Postalcode, Borough, Neighbourhood  43.662744   \n88         M8V  43.605647  Postalcode, Borough, Neighbourhood  43.605647   \n89         M8W  43.602414  Postalcode, Borough, Neighbourhood  43.602414   \n90         M8X  43.653654  Postalcode, Borough, Neighbourhood  43.653654   \n91         M8Y  43.636258  Postalcode, Borough, Neighbourhood  43.636258   \n92         M8Z  43.628841  Postalcode, Borough, Neighbourhood  43.628841   \n93         M9A  43.667856  Postalcode, Borough, Neighbourhood  43.667856   \n94         M9B  43.650943  Postalcode, Borough, Neighbourhood  43.650943   \n95         M9C  43.643515  Postalcode, Borough, Neighbourhood  43.643515   \n96         M9L  43.756303  Postalcode, Borough, Neighbourhood  43.756303   \n97         M9M  43.724766  Postalcode, Borough, Neighbourhood  43.724766   \n98         M9N  43.706876  Postalcode, Borough, Neighbourhood  43.706876   \n99         M9P  43.696319  Postalcode, Borough, Neighbourhood  43.696319   \n100        M9R  43.688905  Postalcode, Borough, Neighbourhood  43.688905   \n101        M9V  43.739416  Postalcode, Borough, Neighbourhood  43.739416   \n102        M9W  43.706748  Postalcode, Borough, Neighbourhood  43.706748   \n\n     Longitude  \n0   -79.194353  \n1   -79.160497  \n2   -79.188711  \n3   -79.216917  \n4   -79.239476  \n5   -79.239476  \n6   -79.262029  \n7   -79.284577  \n8   -79.239476  \n9   -79.264848  \n10  -79.273304  \n11  -79.295849  \n12  -79.262029  \n13  -79.304302  \n14  -79.284577  \n15  -79.318389  \n16  -79.205636  \n17  -79.363452  \n18  -79.346556  \n19  -79.385975  \n20  -79.374714  \n21  -79.408493  \n22  -79.408493  \n23  -79.400049  \n24  -79.442259  \n25  -79.329656  \n26  -79.352188  \n27  -79.340923  \n28  -79.442259  \n29  -79.487262  \n..         ...  \n73  -79.428191  \n74  -79.453512  \n75  -79.422564  \n76  -79.442259  \n77  -79.419750  \n78  -79.428191  \n79  -79.490074  \n80  -79.476013  \n81  -79.487262  \n82  -79.464763  \n83  -79.456325  \n84  -79.484450  \n85  -79.389494  \n86  -79.615819  \n87  -79.321558  \n88  -79.501321  \n89  -79.543484  \n90  -79.506944  \n91  -79.498509  \n92  -79.520999  \n93  -79.532242  \n94  -79.554724  \n95  -79.577201  \n96  -79.565963  \n97  -79.532242  \n98  -79.518188  \n99  -79.532242  \n100 -79.554724  \n101 -79.588437  \n102 -79.594054  \n\n[103 rows x 5 columns]"
                    },
                    "execution_count": 10,
                    "metadata": {},
                    "output_type": "execute_result"
                }
            ],
            "source": "Toronto_df = pd.merge(df_new,\n                 df_lon_lat[['Postalcode','Latitude', 'Longitude']],\n                 on='Postalcode')\nToronto_df"
        },
        {
            "cell_type": "code",
            "execution_count": null,
            "metadata": {},
            "outputs": [],
            "source": ""
        }
    ],
    "metadata": {
        "kernelspec": {
            "display_name": "Python 3.6",
            "language": "python",
            "name": "python3"
        },
        "language_info": {
            "codemirror_mode": {
                "name": "ipython",
                "version": 3
            },
            "file_extension": ".py",
            "mimetype": "text/x-python",
            "name": "python",
            "nbconvert_exporter": "python",
            "pygments_lexer": "ipython3",
            "version": "3.6.9"
        }
    },
    "nbformat": 4,
    "nbformat_minor": 1
}